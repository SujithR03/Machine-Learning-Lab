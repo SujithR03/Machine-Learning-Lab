{
 "cells": [
  {
   "cell_type": "code",
   "execution_count": 13,
   "id": "5d5c6428-82c1-4bd8-b900-1452462e061a",
   "metadata": {},
   "outputs": [
    {
     "name": "stdout",
     "output_type": "stream",
     "text": [
      "   House_ID Insulation        Windows  Floor_Area_in_SqFt  \\\n",
      "0         1       High  Double-Glazed                 800   \n",
      "1         2       High  Double-Glazed                 810   \n",
      "2         3       High  Double-Glazed                 820   \n",
      "3         4       High  Double-Glazed                 830   \n",
      "4         5       High  Double-Glazed                 840   \n",
      "\n",
      "  Energy_Efficiency_Rating  Price_in_USD  \n",
      "0                        A        200000  \n",
      "1                        A        201500  \n",
      "2                        A        203000  \n",
      "3                        A        204500  \n",
      "4                        A        206000  \n"
     ]
    },
    {
     "ename": "NameError",
     "evalue": "name 'df_custom' is not defined",
     "output_type": "error",
     "traceback": [
      "\u001b[1;31m---------------------------------------------------------------------------\u001b[0m",
      "\u001b[1;31mNameError\u001b[0m                                 Traceback (most recent call last)",
      "Cell \u001b[1;32mIn[13], line 25\u001b[0m\n\u001b[0;32m     22\u001b[0m X_train, X_test, y_train, y_test \u001b[38;5;241m=\u001b[39m train_test_split(X, y, test_size\u001b[38;5;241m=\u001b[39m\u001b[38;5;241m0.2\u001b[39m, random_state\u001b[38;5;241m=\u001b[39m\u001b[38;5;241m42\u001b[39m)\n\u001b[0;32m     23\u001b[0m label_encoder \u001b[38;5;241m=\u001b[39m LabelEncoder()\n\u001b[1;32m---> 25\u001b[0m df[\u001b[38;5;124m\"\u001b[39m\u001b[38;5;124mInsulation\u001b[39m\u001b[38;5;124m\"\u001b[39m] \u001b[38;5;241m=\u001b[39m label_encoder\u001b[38;5;241m.\u001b[39mfit_transform(df_custom[\u001b[38;5;124m\"\u001b[39m\u001b[38;5;124mInsulation\u001b[39m\u001b[38;5;124m\"\u001b[39m])\n\u001b[0;32m     26\u001b[0m df[\u001b[38;5;124m\"\u001b[39m\u001b[38;5;124mWindows\u001b[39m\u001b[38;5;124m\"\u001b[39m] \u001b[38;5;241m=\u001b[39m label_encoder\u001b[38;5;241m.\u001b[39mfit_transform(df_custom[\u001b[38;5;124m\"\u001b[39m\u001b[38;5;124mWindows\u001b[39m\u001b[38;5;124m\"\u001b[39m])\n\u001b[0;32m     27\u001b[0m df[\u001b[38;5;124m\"\u001b[39m\u001b[38;5;124mEnergy_Efficiency_Rating\u001b[39m\u001b[38;5;124m\"\u001b[39m] \u001b[38;5;241m=\u001b[39m label_encoder\u001b[38;5;241m.\u001b[39mfit_transform(df_custom[\u001b[38;5;124m\"\u001b[39m\u001b[38;5;124mEnergy_Efficiency_Rating\u001b[39m\u001b[38;5;124m\"\u001b[39m])\n",
      "\u001b[1;31mNameError\u001b[0m: name 'df_custom' is not defined"
     ]
    }
   ],
   "source": [
    "import numpy as np\n",
    "import pandas as pd\n",
    "from sklearn.model_selection import train_test_split\n",
    "from sklearn.linear_model import Ridge\n",
    "from sklearn.metrics import mean_squared_error\n",
    "from sklearn.preprocessing import LabelEncoder\n",
    "\n",
    "# Read data from a CSV file\n",
    "# Replace 'file_path.csv' with the path to your CSV file\n",
    "df = pd.read_csv('house_price.csv')\n",
    "\n",
    "# Display the first few rows to understand the dataset\n",
    "print(df.head())\n",
    "\n",
    "# Features and target\n",
    "# Replace 'Insulation', 'Windows', 'FloorArea', and 'EnergyEfficiency' \n",
    "# with the actual column names from your CSV file\n",
    "X = df[['Insulation', 'Windows', 'Floor_Area_in_SqFt']]\n",
    "y = df['Energy_Efficiency_Rating']\n",
    "\n",
    "# Train-test split\n",
    "X_train, X_test, y_train, y_test = train_test_split(X, y, test_size=0.2, random_state=42)\n",
    "label_encoder = LabelEncoder()\n",
    "\n",
    "df[\"Insulation\"] = label_encoder.fit_transform(df_custom[\"Insulation\"])\n",
    "df[\"Windows\"] = label_encoder.fit_transform(df_custom[\"Windows\"])\n",
    "df[\"Energy_Efficiency_Rating\"] = label_encoder.fit_transform(df_custom[\"Energy_Efficiency_Rating\"])\n",
    "\n",
    "# Ridge Regression\n",
    "ridge = Ridge(alpha=1.0)\n",
    "ridge.fit(X_train, y_train)\n",
    "\n",
    "# Predictions\n",
    "y_pred = ridge.predict(X_test)\n",
    "\n",
    "# Evaluation\n",
    "print(\"MSE for Energy Efficiency Prediction:\", mean_squared_error(y_test, y_pred))"
   ]
  },
  {
   "cell_type": "code",
   "execution_count": null,
   "id": "e102f7fc-3795-41ef-b9cf-89a7e2c9615c",
   "metadata": {},
   "outputs": [],
   "source": []
  }
 ],
 "metadata": {
  "kernelspec": {
   "display_name": "Python 3 (ipykernel)",
   "language": "python",
   "name": "python3"
  },
  "language_info": {
   "codemirror_mode": {
    "name": "ipython",
    "version": 3
   },
   "file_extension": ".py",
   "mimetype": "text/x-python",
   "name": "python",
   "nbconvert_exporter": "python",
   "pygments_lexer": "ipython3",
   "version": "3.12.4"
  }
 },
 "nbformat": 4,
 "nbformat_minor": 5
}
