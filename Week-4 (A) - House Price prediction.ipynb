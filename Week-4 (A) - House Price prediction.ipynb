{
 "cells": [
  {
   "cell_type": "code",
   "execution_count": 2,
   "id": "5d5c6428-82c1-4bd8-b900-1452462e061a",
   "metadata": {},
   "outputs": [
    {
     "name": "stdout",
     "output_type": "stream",
     "text": [
      "   House_ID Insulation        Windows  Floor_Area_in_SqFt  \\\n",
      "0         1       High  Double-Glazed                 800   \n",
      "1         2       High  Double-Glazed                 810   \n",
      "2         3       High  Double-Glazed                 820   \n",
      "3         4       High  Double-Glazed                 830   \n",
      "4         5       High  Double-Glazed                 840   \n",
      "\n",
      "  Energy_Efficiency_Rating  Price_in_USD  \n",
      "0                        A        200000  \n",
      "1                        A        201500  \n",
      "2                        A        203000  \n",
      "3                        A        204500  \n",
      "4                        A        206000  \n",
      "MSE for Energy Efficiency Prediction: 0.10239999917110125\n"
     ]
    }
   ],
   "source": [
    "import numpy as np\n",
    "import pandas as pd\n",
    "from sklearn.model_selection import train_test_split\n",
    "from sklearn.linear_model import Ridge\n",
    "from sklearn.metrics import mean_squared_error\n",
    "from sklearn.preprocessing import LabelEncoder\n",
    "\n",
    "# Read data from a CSV file (Update the correct file path)\n",
    "df = pd.read_csv('house_price.csv')\n",
    "\n",
    "# Display the first few rows to understand the dataset\n",
    "print(df.head())\n",
    "\n",
    "# Encode categorical features before splitting\n",
    "label_encoders = {}\n",
    "categorical_cols = ['Insulation', 'Windows', 'Energy_Efficiency_Rating']\n",
    "\n",
    "for col in categorical_cols:\n",
    "    le = LabelEncoder()\n",
    "    df[col] = le.fit_transform(df[col])\n",
    "    label_encoders[col] = le  # Save encoder for later use if needed\n",
    "\n",
    "# Features and target\n",
    "X = df[['Insulation', 'Windows', 'Floor_Area_in_SqFt']]\n",
    "y = df['Energy_Efficiency_Rating']\n",
    "\n",
    "# Train-test split\n",
    "X_train, X_test, y_train, y_test = train_test_split(X, y, test_size=0.2, random_state=42)\n",
    "\n",
    "# Ridge Regression Model\n",
    "ridge = Ridge(alpha=1.0)\n",
    "ridge.fit(X_train, y_train)\n",
    "\n",
    "# Predictions\n",
    "y_pred = ridge.predict(X_test)\n",
    "\n",
    "# Evaluation\n",
    "mse = mean_squared_error(y_test, y_pred)\n",
    "print(\"MSE for Energy Efficiency Prediction:\", mse)"
   ]
  }
 ],
 "metadata": {
  "kernelspec": {
   "display_name": "Python 3 (ipykernel)",
   "language": "python",
   "name": "python3"
  },
  "language_info": {
   "codemirror_mode": {
    "name": "ipython",
    "version": 3
   },
   "file_extension": ".py",
   "mimetype": "text/x-python",
   "name": "python",
   "nbconvert_exporter": "python",
   "pygments_lexer": "ipython3",
   "version": "3.12.4"
  }
 },
 "nbformat": 4,
 "nbformat_minor": 5
}
