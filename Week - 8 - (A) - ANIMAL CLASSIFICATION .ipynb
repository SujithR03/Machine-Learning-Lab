{
 "cells": [
  {
   "cell_type": "code",
   "execution_count": 3,
   "id": "6c52eb3b-fe6b-4279-aab3-bb9f056f8989",
   "metadata": {},
   "outputs": [
    {
     "name": "stdout",
     "output_type": "stream",
     "text": [
      "class\n",
      "3    5\n",
      "1    2\n",
      "2    1\n",
      "0    1\n",
      "4    1\n",
      "Name: count, dtype: int64\n",
      "Warning: Some classes have only one sample! Consider balancing the dataset.\n",
      "Accuracy: 0.0\n",
      "Classification Report:\n",
      "               precision    recall  f1-score   support\n",
      "\n",
      "           1       0.00      1.00      0.00       0.0\n",
      "           2       0.00      1.00      0.00       0.0\n",
      "           3       1.00      0.00      0.00       2.0\n",
      "\n",
      "    accuracy                           0.00       2.0\n",
      "   macro avg       0.33      0.67      0.00       2.0\n",
      "weighted avg       1.00      0.00      0.00       2.0\n",
      "\n"
     ]
    }
   ],
   "source": [
    "import pandas as pd\n",
    "from sklearn.model_selection import train_test_split, GridSearchCV\n",
    "from sklearn.tree import DecisionTreeClassifier\n",
    "from sklearn.preprocessing import LabelEncoder\n",
    "from sklearn.metrics import accuracy_score, classification_report\n",
    "\n",
    "# Load dataset\n",
    "df = pd.read_csv(\"animal_classification.csv\")\n",
    "\n",
    "# Drop non-essential columns\n",
    "if \"name\" in df.columns:\n",
    "    df = df.drop(columns=[\"name\"])\n",
    "\n",
    "# Encode categorical variables\n",
    "label_encoders = {}\n",
    "for col in df.select_dtypes(include=[\"object\"]).columns:\n",
    "    le = LabelEncoder()\n",
    "    df[col] = le.fit_transform(df[col])\n",
    "    label_encoders[col] = le  # Store encoders for later use\n",
    "\n",
    "# Check class distribution\n",
    "print(df[\"class\"].value_counts())\n",
    "\n",
    "# Optionally, duplicate rare classes to balance the dataset\n",
    "min_class_count = df[\"class\"].value_counts().min()\n",
    "if min_class_count == 1:\n",
    "    print(\"Warning: Some classes have only one sample! Consider balancing the dataset.\")\n",
    "\n",
    "# Split features and target variable\n",
    "X = df.drop(columns=[\"class\"])\n",
    "y = df[\"class\"]\n",
    "\n",
    "# Fix stratification issue by setting shuffle=True\n",
    "X_train, X_test, y_train, y_test = train_test_split(X, y, test_size=0.2, shuffle=True, random_state=42)\n",
    "\n",
    "# Train Decision Tree model\n",
    "clf = DecisionTreeClassifier()\n",
    "clf.fit(X_train, y_train)\n",
    "\n",
    "# Predictions\n",
    "y_pred = clf.predict(X_test)\n",
    "\n",
    "# Results\n",
    "print(\"Accuracy:\", accuracy_score(y_test, y_pred))\n",
    "print(\"Classification Report:\\n\", classification_report(y_test, y_pred, zero_division=1))"
   ]
  },
  {
   "cell_type": "code",
   "execution_count": null,
   "id": "10726e19-7023-4d5a-9535-a4d93007bd8f",
   "metadata": {},
   "outputs": [],
   "source": []
  }
 ],
 "metadata": {
  "kernelspec": {
   "display_name": "Python 3 (ipykernel)",
   "language": "python",
   "name": "python3"
  },
  "language_info": {
   "codemirror_mode": {
    "name": "ipython",
    "version": 3
   },
   "file_extension": ".py",
   "mimetype": "text/x-python",
   "name": "python",
   "nbconvert_exporter": "python",
   "pygments_lexer": "ipython3",
   "version": "3.12.4"
  }
 },
 "nbformat": 4,
 "nbformat_minor": 5
}
