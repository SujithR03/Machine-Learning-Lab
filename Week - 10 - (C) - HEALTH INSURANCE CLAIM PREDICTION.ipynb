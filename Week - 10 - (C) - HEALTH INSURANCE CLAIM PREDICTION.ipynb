{
 "cells": [
  {
   "cell_type": "code",
   "execution_count": 1,
   "id": "df99d6be-b36a-41da-bee5-1ae67ccf1d5f",
   "metadata": {},
   "outputs": [
    {
     "name": "stderr",
     "output_type": "stream",
     "text": [
      "C:\\ProgramData\\anaconda3\\Lib\\site-packages\\sklearn\\ensemble\\_weight_boosting.py:519: FutureWarning: The SAMME.R algorithm (the default) is deprecated and will be removed in 1.6. Use the SAMME algorithm to circumvent this warning.\n",
      "  warnings.warn(\n"
     ]
    },
    {
     "name": "stdout",
     "output_type": "stream",
     "text": [
      "Model Accuracy: 0.75\n",
      "Predicted Claim Status: Rejected\n"
     ]
    }
   ],
   "source": [
    "import pandas as pd\n",
    "import numpy as np\n",
    "from sklearn.model_selection import train_test_split\n",
    "from sklearn.ensemble import AdaBoostClassifier\n",
    "from sklearn.tree import DecisionTreeClassifier\n",
    "from sklearn.metrics import accuracy_score\n",
    "\n",
    "# Load dataset\n",
    "df = pd.read_csv(\"health_insurance_claims.csv\")  # Update with actual dataset path\n",
    "\n",
    "# Define features and labels\n",
    "X = df.drop(columns=[\"Claim_Status\"])  # 'Claim_Status' should be the target variable\n",
    "y = df[\"Claim_Status\"]\n",
    "\n",
    "# Convert categorical features if needed\n",
    "X = pd.get_dummies(X)\n",
    "\n",
    "# Train-test split\n",
    "X_train, X_test, y_train, y_test = train_test_split(X, y, test_size=0.2, random_state=42)\n",
    "\n",
    "# Train AdaBoost model\n",
    "model = AdaBoostClassifier(\n",
    "    estimator=DecisionTreeClassifier(max_depth=2),\n",
    "    n_estimators=100,\n",
    "    learning_rate=0.1,\n",
    "    random_state=42\n",
    ")\n",
    "model.fit(X_train, y_train)\n",
    "\n",
    "# Predictions on test set\n",
    "y_pred = model.predict(X_test)\n",
    "\n",
    "# Accuracy\n",
    "accuracy = accuracy_score(y_test, y_pred)\n",
    "print(f\"Model Accuracy: {accuracy:.2f}\")\n",
    "\n",
    "# Prediction for new claim\n",
    "new_claim = pd.DataFrame([{\n",
    "    \"Age\": 45,\n",
    "    \"BMI\": 28.5,\n",
    "    \"Smoker\": \"Yes\",\n",
    "    \"Claim_Amount\": 5000,\n",
    "    \"Hospital_Visits\": 2\n",
    "}])  # Modify based on actual dataset features\n",
    "\n",
    "# Convert categorical features\n",
    "new_claim = pd.get_dummies(new_claim)\n",
    "\n",
    "# Align new data with training columns\n",
    "new_claim = new_claim.reindex(columns=X.columns, fill_value=0)\n",
    "\n",
    "# Predict claim status\n",
    "predicted_status = model.predict(new_claim)[0]\n",
    "print(f\"Predicted Claim Status: {predicted_status}\")"
   ]
  },
  {
   "cell_type": "code",
   "execution_count": null,
   "id": "f73a9bfe-b89c-4c5d-b8aa-c563243eb005",
   "metadata": {},
   "outputs": [],
   "source": []
  }
 ],
 "metadata": {
  "kernelspec": {
   "display_name": "Python 3 (ipykernel)",
   "language": "python",
   "name": "python3"
  },
  "language_info": {
   "codemirror_mode": {
    "name": "ipython",
    "version": 3
   },
   "file_extension": ".py",
   "mimetype": "text/x-python",
   "name": "python",
   "nbconvert_exporter": "python",
   "pygments_lexer": "ipython3",
   "version": "3.12.4"
  }
 },
 "nbformat": 4,
 "nbformat_minor": 5
}
