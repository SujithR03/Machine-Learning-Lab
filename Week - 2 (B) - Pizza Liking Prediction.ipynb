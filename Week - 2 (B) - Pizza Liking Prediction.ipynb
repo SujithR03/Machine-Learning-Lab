{
 "cells": [
  {
   "cell_type": "code",
   "execution_count": 1,
   "id": "27fa794f-afc6-4db8-b9ff-797d8c9fcfc4",
   "metadata": {},
   "outputs": [
    {
     "ename": "SyntaxError",
     "evalue": "incomplete input (340984548.py, line 57)",
     "output_type": "error",
     "traceback": [
      "\u001b[1;36m  Cell \u001b[1;32mIn[1], line 57\u001b[1;36m\u001b[0m\n\u001b[1;33m    \"working\": label_encoders[\"working\"].transform([\"IT\"])[0]\u001b[0m\n\u001b[1;37m                                                             ^\u001b[0m\n\u001b[1;31mSyntaxError\u001b[0m\u001b[1;31m:\u001b[0m incomplete input\n"
     ]
    }
   ],
   "source": [
    "# Import necessary libraries\n",
    "import pandas as pd \n",
    "import seaborn as sns \n",
    "from sklearn.model_selection import train_test_split \n",
    "from sklearn.ensemble import RandomForestClassifier \n",
    "from sklearn.metrics import accuracy_score, classification_report\n",
    "from sklearn.preprocessing import LabelEncoder\n",
    "\n",
    "# Create the dataset\n",
    "data = { \n",
    "    \"age\": [15, 25, 35, 45, 55, 22, 40, 28, 18, 60], \n",
    "    \"likes_cheese\": [1, 1, 0, 1, 0, 1, 0, 1, 1, 0], \n",
    "    \"fast_food\": [0, 0, 1, 0, 1, 0, 1, 0, 0, 1], \n",
    "    \"Salary\": [50000, 100000, 10000, 80000, 8000, 45000, 11000, 120000, 130000, 13000], \n",
    "    \"location\": [\"Urban\", \"Urban\", \"Rural\", \"Urban\", \"Rural\", \"Urban\", \"Rural\", \"Urban\", \"Urban\", \"Rural\"], \n",
    "    \"Awareness\": [\"know\", \"know\", \"Unknow\", \"know\", \"Unknow\", \"know\", \"Unknow\", \"know\", \"know\", \"Unknow\"], \n",
    "    \"working\": [\"IT\", \"IT\", \"Farmer\", \"Engineer\", \"Driver\", \"Pilot\", \"Painter\", \"IT\", \"Artist\", \"Player\"], \n",
    "    \"Health\": [\"Good\", \"Bad\", \"Bad\", \"Good\", \"Bad\", \"Good\", \"Bad\", \"Good\", \"Good\", \"Bad\"], \n",
    "    \"likes_pizza\": [\"yes\", \"yes\", \"no\", \"yes\", \"no\", \"yes\", \"no\", \"yes\", \"yes\", \"no\"]\n",
    "} \n",
    "\n",
    "# Create DataFrame\n",
    "df = pd.DataFrame(data) \n",
    "\n",
    "# Encode categorical features\n",
    "label_encoders = {}\n",
    "categorical_cols = [\"location\", \"Awareness\", \"working\", \"Health\"]\n",
    "\n",
    "for col in categorical_cols:\n",
    "    le = LabelEncoder()\n",
    "    df[col] = le.fit_transform(df[col])\n",
    "    label_encoders[col] = le\n",
    "\n",
    "# Prepare features and target\n",
    "X = df[[\"age\", \"likes_cheese\", \"fast_food\", \"Salary\", \"location\", \"working\", \"Health\", \"Awareness\"]] \n",
    "y = df[\"likes_pizza\"] \n",
    "\n",
    "# Split data into training and testing sets\n",
    "X_train, X_test, y_train, y_test = train_test_split(X, y, test_size=0.3, random_state=42) \n",
    "\n",
    "# Initialize and train the Random Forest model\n",
    "model = RandomForestClassifier(random_state=42) \n",
    "model.fit(X_train, y_train) \n",
    "\n",
    "# Make predictions on the test set\n",
    "y_pred = model.predict(X_test) \n",
    "\n",
    "# Display results\n",
    "print(\"\\nDataFrame:\\n\", df) \n",
    "print(\"\\nAccuracy:\", accuracy_score(y_test, y_pred)) \n",
    "print(\"\\nClassification Report:\\n\", classification_report(y_test, y_pred)) \n",
    "\n",
    "# Make a prediction for a new example\n",
    "example_person = {\"age\": 30, \"likes_cheese\": 1, \"fast_food\": 0, \"Salary\": 90000, \n",
    "                  \"location\": label_encoders[\"location\"].transform([\"Urban\"])[0], \n",
    "                  \"Awareness\": label_encoders[\"Awareness\"].transform([\"know\"])[0], \n",
    "                  \"working\": label_encoders[\"working\"].transform([\"IT\"])[0]"
   ]
  },
  {
   "cell_type": "code",
   "execution_count": null,
   "id": "4bee20d1-7093-42d2-adfe-4e1f62c56a0b",
   "metadata": {},
   "outputs": [],
   "source": []
  }
 ],
 "metadata": {
  "kernelspec": {
   "display_name": "Python 3 (ipykernel)",
   "language": "python",
   "name": "python3"
  },
  "language_info": {
   "codemirror_mode": {
    "name": "ipython",
    "version": 3
   },
   "file_extension": ".py",
   "mimetype": "text/x-python",
   "name": "python",
   "nbconvert_exporter": "python",
   "pygments_lexer": "ipython3",
   "version": "3.12.4"
  }
 },
 "nbformat": 4,
 "nbformat_minor": 5
}
