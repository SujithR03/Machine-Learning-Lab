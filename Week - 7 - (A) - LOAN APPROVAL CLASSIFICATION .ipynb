{
 "cells": [
  {
   "cell_type": "code",
   "execution_count": 1,
   "id": "d27a0a29-1098-410a-a3fe-22adae0e8acb",
   "metadata": {},
   "outputs": [
    {
     "name": "stdout",
     "output_type": "stream",
     "text": [
      "Accuracy: 0.3333333333333333\n",
      "\n",
      "Classification Report:\n",
      "               precision    recall  f1-score   support\n",
      "\n",
      "           0       0.40      0.67      0.50         3\n",
      "           1       0.00      0.00      0.00         3\n",
      "\n",
      "    accuracy                           0.33         6\n",
      "   macro avg       0.20      0.33      0.25         6\n",
      "weighted avg       0.20      0.33      0.25         6\n",
      "\n"
     ]
    }
   ],
   "source": [
    "import pandas as pd\n",
    "from sklearn.model_selection import train_test_split\n",
    "from sklearn.preprocessing import StandardScaler, LabelEncoder\n",
    "from sklearn.svm import SVC\n",
    "from sklearn.metrics import accuracy_score, classification_report\n",
    "\n",
    "# Load the dataset (Make sure 'loan_approval_data.csv' is in the same directory)\n",
    "dataset = pd.read_csv('loan_approval_data.csv')\n",
    "\n",
    "# Encode categorical features (e.g., 'Employment_Status' should be categorical in the dataset)\n",
    "label_encoder = LabelEncoder()\n",
    "dataset['Employment_Status'] = label_encoder.fit_transform(dataset['Employment_Status'])\n",
    "\n",
    "# Split features (X) and target (y)\n",
    "X = dataset.drop('Loan_Status', axis=1)  # Features\n",
    "y = dataset['Loan_Status']  # Target variable\n",
    "\n",
    "# Split data into training (70%) and testing (30%) sets\n",
    "X_train, X_test, y_train, y_test = train_test_split(X, y, test_size=0.3, random_state=42)\n",
    "\n",
    "# Standardize the numerical features\n",
    "scaler = StandardScaler()\n",
    "X_train = scaler.fit_transform(X_train)\n",
    "X_test = scaler.transform(X_test)\n",
    "\n",
    "# Initialize and train the SVM model with a linear kernel\n",
    "model = SVC(kernel='linear', random_state=42)\n",
    "model.fit(X_train, y_train)\n",
    "\n",
    "# Make predictions\n",
    "y_pred = model.predict(X_test)\n",
    "\n",
    "# Evaluate the model\n",
    "print(\"Accuracy:\", accuracy_score(y_test, y_pred))\n",
    "print(\"\\nClassification Report:\\n\", classification_report(y_test, y_pred))"
   ]
  },
  {
   "cell_type": "code",
   "execution_count": null,
   "id": "8dac85d5-47bc-43a4-a34b-a52541448939",
   "metadata": {},
   "outputs": [],
   "source": []
  }
 ],
 "metadata": {
  "kernelspec": {
   "display_name": "Python 3 (ipykernel)",
   "language": "python",
   "name": "python3"
  },
  "language_info": {
   "codemirror_mode": {
    "name": "ipython",
    "version": 3
   },
   "file_extension": ".py",
   "mimetype": "text/x-python",
   "name": "python",
   "nbconvert_exporter": "python",
   "pygments_lexer": "ipython3",
   "version": "3.12.4"
  }
 },
 "nbformat": 4,
 "nbformat_minor": 5
}
