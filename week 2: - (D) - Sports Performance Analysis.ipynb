{
 "cells": [
  {
   "cell_type": "code",
   "execution_count": 1,
   "id": "29623acc-3e1f-420a-8a2a-ae512db02adf",
   "metadata": {},
   "outputs": [
    {
     "name": "stdout",
     "output_type": "stream",
     "text": [
      "              precision    recall  f1-score   support\n",
      "\n",
      "   excellent       1.00      0.00      0.00         3\n",
      "        good       0.25      1.00      0.40         1\n",
      "\n",
      "    accuracy                           0.25         4\n",
      "   macro avg       0.62      0.50      0.20         4\n",
      "weighted avg       0.81      0.25      0.10         4\n",
      "\n"
     ]
    }
   ],
   "source": [
    "import pandas as pd \n",
    "from sklearn.model_selection import train_test_split \n",
    "from sklearn.neighbors import KNeighborsClassifier \n",
    "from sklearn.metrics import classification_report \n",
    "\n",
    "# Load the dataset \n",
    "df = pd.read_csv(\"sports.csv\") \n",
    "\n",
    "# Features and target \n",
    "X = df[['accuracy', 'speed', 'stamina', 'age']].copy()  # Ensure X is a copy \n",
    "y = df['performance'].copy()  # Ensure y is a copy \n",
    "\n",
    "# Include outliers \n",
    "outlier = pd.DataFrame([[200, 15, 150, 30]], columns=X.columns) \n",
    "\n",
    "# Add a corresponding target value for the outlier \n",
    "X = pd.concat([X, outlier], ignore_index=True)  \n",
    "y = pd.concat([y, pd.Series(['excellent'])], ignore_index=True) \n",
    "\n",
    "# Split the data \n",
    "X_train, X_test, y_train, y_test = train_test_split(X, y, test_size=0.3, random_state=42) \n",
    "\n",
    "# Train k-NN model \n",
    "knn = KNeighborsClassifier(n_neighbors=3) \n",
    "knn.fit(X_train, y_train) \n",
    "\n",
    "# Predictions \n",
    "y_pred = knn.predict(X_test) \n",
    "\n",
    "# Evaluate with zero_division set to 1 to avoid warnings \n",
    "print(classification_report(y_test, y_pred, zero_division=1))"
   ]
  },
  {
   "cell_type": "code",
   "execution_count": null,
   "id": "9ac5233e-2615-4a0b-adcc-507fdfe64f27",
   "metadata": {},
   "outputs": [],
   "source": []
  }
 ],
 "metadata": {
  "kernelspec": {
   "display_name": "Python 3 (ipykernel)",
   "language": "python",
   "name": "python3"
  },
  "language_info": {
   "codemirror_mode": {
    "name": "ipython",
    "version": 3
   },
   "file_extension": ".py",
   "mimetype": "text/x-python",
   "name": "python",
   "nbconvert_exporter": "python",
   "pygments_lexer": "ipython3",
   "version": "3.12.4"
  }
 },
 "nbformat": 4,
 "nbformat_minor": 5
}
