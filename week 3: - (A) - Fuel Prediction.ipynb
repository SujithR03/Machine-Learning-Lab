{
 "cells": [
  {
   "cell_type": "code",
   "execution_count": 1,
   "id": "ed598c01-c800-4f13-9b8e-0ee5241a8ffc",
   "metadata": {},
   "outputs": [
    {
     "name": "stdout",
     "output_type": "stream",
     "text": [
      "Dataset Preview:\n",
      "   distance       fuel\n",
      "0       152   9.202956\n",
      "1       485  37.360312\n",
      "2       398  30.918722\n",
      "3       320  27.714244\n",
      "4       156  13.167237\n",
      "Mean Squared Error: 3.6891484038690896\n",
      "Model Coefficients:\n",
      "Intercept: -0.16550729824296795\n",
      "Slope: 0.08088340658994643\n",
      "Predicted fuel for 150 km: 11.97 liters\n"
     ]
    }
   ],
   "source": [
    "# Import necessary libraries\n",
    "import pandas as pd \n",
    "from sklearn.model_selection import train_test_split \n",
    "from sklearn.linear_model import LinearRegression \n",
    "from sklearn.metrics import mean_squared_error \n",
    "\n",
    "# Load the dataset\n",
    "df = pd.read_csv(\"Fuel_data.csv\") \n",
    "\n",
    "# Preview the dataset\n",
    "print(\"Dataset Preview:\") \n",
    "print(df.head()) \n",
    "\n",
    "# Define features and target\n",
    "X = df[['distance']]  # Feature: distance traveled \n",
    "y = df['fuel']  # Target: fuel consumed \n",
    "\n",
    "# Split the data into training and testing sets\n",
    "X_train, X_test, y_train, y_test = train_test_split(X, y, test_size=0.2, random_state=42) \n",
    "\n",
    "# Initialize and train the model\n",
    "model = LinearRegression() \n",
    "model.fit(X_train, y_train) \n",
    "\n",
    "# Make predictions\n",
    "y_pred = model.predict(X_test) \n",
    "\n",
    "# Calculate Mean Squared Error\n",
    "mse = mean_squared_error(y_test, y_pred) \n",
    "print(f\"Mean Squared Error: {mse}\") \n",
    "\n",
    "# Display model coefficients\n",
    "print(\"Model Coefficients:\") \n",
    "print(f\"Intercept: {model.intercept_}\") \n",
    "print(f\"Slope: {model.coef_[0]}\") \n",
    "\n",
    "# Make a prediction for a new input\n",
    "new_distance = pd.DataFrame({'distance': [150]})  # Create DataFrame for new input \n",
    "predicted_fuel = model.predict(new_distance) \n",
    "print(f\"Predicted fuel for {new_distance.iloc[0, 0]} km: {predicted_fuel[0]:.2f} liters\")"
   ]
  },
  {
   "cell_type": "code",
   "execution_count": null,
   "id": "cb5fe667-645d-4ee0-8d93-34acae7284b0",
   "metadata": {},
   "outputs": [],
   "source": []
  }
 ],
 "metadata": {
  "kernelspec": {
   "display_name": "Python 3 (ipykernel)",
   "language": "python",
   "name": "python3"
  },
  "language_info": {
   "codemirror_mode": {
    "name": "ipython",
    "version": 3
   },
   "file_extension": ".py",
   "mimetype": "text/x-python",
   "name": "python",
   "nbconvert_exporter": "python",
   "pygments_lexer": "ipython3",
   "version": "3.12.4"
  }
 },
 "nbformat": 4,
 "nbformat_minor": 5
}
