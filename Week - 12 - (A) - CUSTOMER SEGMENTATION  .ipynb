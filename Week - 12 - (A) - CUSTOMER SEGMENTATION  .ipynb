{
 "cells": [
  {
   "cell_type": "code",
   "execution_count": 1,
   "id": "e83e6261-5d9d-4310-9c5b-09c20cbe0b11",
   "metadata": {},
   "outputs": [
    {
     "name": "stderr",
     "output_type": "stream",
     "text": [
      "C:\\ProgramData\\anaconda3\\Lib\\site-packages\\sklearn\\cluster\\_kmeans.py:1446: UserWarning: KMeans is known to have a memory leak on Windows with MKL, when there are less chunks than available threads. You can avoid it by setting the environment variable OMP_NUM_THREADS=1.\n",
      "  warnings.warn(\n"
     ]
    },
    {
     "name": "stdout",
     "output_type": "stream",
     "text": [
      "Cluster\n",
      "2    6\n",
      "1    6\n",
      "0    5\n",
      "3    3\n",
      "Name: count, dtype: int64\n",
      "Customer segmentation completed and saved as 'customer_segmented_dataset.csv'.\n"
     ]
    }
   ],
   "source": [
    "import pandas as pd\n",
    "import numpy as np\n",
    "from sklearn.preprocessing import StandardScaler\n",
    "from sklearn.cluster import KMeans\n",
    "\n",
    "# Load the dataset\n",
    "df = pd.read_csv(\"customer_segmentation.csv\")  # Replace with your actual CSV file\n",
    "\n",
    "# Select relevant features for clustering\n",
    "features = ['Age', 'Annual_Income', 'Spending_Score']\n",
    "\n",
    "# Ensure selected features exist in the dataset\n",
    "for feature in features:\n",
    "    if feature not in df.columns:\n",
    "        raise KeyError(f\"Column '{feature}' not found in dataset!\")\n",
    "\n",
    "X = df[features]\n",
    "\n",
    "# Standardize the data\n",
    "scaler = StandardScaler()\n",
    "X_scaled = scaler.fit_transform(X)\n",
    "\n",
    "# Apply K-Means Clustering\n",
    "num_clusters = 4  # Choose optimal clusters using the Elbow Method\n",
    "kmeans = KMeans(n_clusters=num_clusters, random_state=42, n_init=10)\n",
    "df['Cluster'] = kmeans.fit_predict(X_scaled)\n",
    "\n",
    "# Save the segmented data\n",
    "df.to_csv(\"customer_segmented_dataset.csv\", index=False)\n",
    "\n",
    "# Print the cluster distribution\n",
    "print(df['Cluster'].value_counts())\n",
    "print(\"Customer segmentation completed and saved as 'customer_segmented_dataset.csv'.\")"
   ]
  },
  {
   "cell_type": "code",
   "execution_count": null,
   "id": "8105ecc8-57ca-43ca-b52a-7c25723162c5",
   "metadata": {},
   "outputs": [],
   "source": []
  }
 ],
 "metadata": {
  "kernelspec": {
   "display_name": "Python 3 (ipykernel)",
   "language": "python",
   "name": "python3"
  },
  "language_info": {
   "codemirror_mode": {
    "name": "ipython",
    "version": 3
   },
   "file_extension": ".py",
   "mimetype": "text/x-python",
   "name": "python",
   "nbconvert_exporter": "python",
   "pygments_lexer": "ipython3",
   "version": "3.12.4"
  }
 },
 "nbformat": 4,
 "nbformat_minor": 5
}
