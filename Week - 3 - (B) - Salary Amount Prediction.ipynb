{
 "cells": [
  {
   "cell_type": "code",
   "execution_count": 1,
   "id": "ecdf4918-d8fd-4b1f-b22f-6ba62c1f1c7f",
   "metadata": {},
   "outputs": [
    {
     "name": "stdout",
     "output_type": "stream",
     "text": [
      "Dataset Preview:\n",
      "   years_experience  qualification  salary  industry_Marketing  \\\n",
      "0                 1              1   40000               False   \n",
      "1                 2              2   45000               False   \n",
      "2                 3              2   42000                True   \n",
      "3                 4              3   48000               False   \n",
      "4                 5              3   47000                True   \n",
      "\n",
      "   location_CityB  location_CityC  \n",
      "0           False           False  \n",
      "1            True           False  \n",
      "2           False           False  \n",
      "3           False            True  \n",
      "4            True           False  \n",
      "Mean Squared Error: 5030572.010113178\n",
      "Predicted salary for the new profile: 50262.84\n"
     ]
    }
   ],
   "source": [
    "import pandas as pd \n",
    "from sklearn.model_selection import train_test_split \n",
    "from sklearn.linear_model import LinearRegression \n",
    "from sklearn.metrics import mean_squared_error \n",
    "\n",
    "# Load the dataset\n",
    "df = pd.read_csv(\"salary_data.csv\") \n",
    "\n",
    "# One-hot encode categorical features\n",
    "df = pd.get_dummies(df, columns=['industry', 'location'], drop_first=True) \n",
    "\n",
    "# Features and target\n",
    "X = df[['years_experience', 'qualification'] + [col for col in df.columns if 'industry_' in col or 'location_' in col]] \n",
    "y = df['salary'] \n",
    "\n",
    "# Split the data\n",
    "X_train, X_test, y_train, y_test = train_test_split(X, y, test_size=0.2, random_state=42) \n",
    "\n",
    "# Train the model\n",
    "model = LinearRegression() \n",
    "model.fit(X_train, y_train) \n",
    "\n",
    "# Predictions and evaluation\n",
    "y_pred = model.predict(X_test) \n",
    "mse = mean_squared_error(y_test, y_pred) \n",
    "print(\"Dataset Preview:\") \n",
    "print(df.head()) \n",
    "print(f\"Mean Squared Error: {mse}\") \n",
    "\n",
    "# Prediction for a new profile\n",
    "new_data = pd.DataFrame({  \n",
    "    'years_experience': [5], \n",
    "    'qualification': [3], \n",
    "    'industry_IT': [1], \n",
    "    'industry_Marketing': [0], \n",
    "    'location_CityB': [1], \n",
    "    'location_CityC': [0], \n",
    "}, columns=X_train.columns)  \n",
    "\n",
    "predicted_salary = model.predict(new_data) \n",
    "print(f\"Predicted salary for the new profile: {predicted_salary[0]:.2f}\")"
   ]
  },
  {
   "cell_type": "code",
   "execution_count": null,
   "id": "0ecfa421-bf56-420c-9fbd-bcedeac1a394",
   "metadata": {},
   "outputs": [],
   "source": []
  }
 ],
 "metadata": {
  "kernelspec": {
   "display_name": "Python 3 (ipykernel)",
   "language": "python",
   "name": "python3"
  },
  "language_info": {
   "codemirror_mode": {
    "name": "ipython",
    "version": 3
   },
   "file_extension": ".py",
   "mimetype": "text/x-python",
   "name": "python",
   "nbconvert_exporter": "python",
   "pygments_lexer": "ipython3",
   "version": "3.12.4"
  }
 },
 "nbformat": 4,
 "nbformat_minor": 5
}
