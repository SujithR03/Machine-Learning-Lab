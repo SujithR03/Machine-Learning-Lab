{
 "cells": [
  {
   "cell_type": "code",
   "execution_count": 1,
   "id": "0ab3375f-1503-45ae-bb53-0af53fa575ab",
   "metadata": {},
   "outputs": [
    {
     "name": "stdout",
     "output_type": "stream",
     "text": [
      "Accuracy: 0.45\n",
      "Classification Report:\n",
      "               precision    recall  f1-score   support\n",
      "\n",
      "           0       0.43      0.30      0.35        10\n",
      "           1       0.46      0.60      0.52        10\n",
      "\n",
      "    accuracy                           0.45        20\n",
      "   macro avg       0.45      0.45      0.44        20\n",
      "weighted avg       0.45      0.45      0.44        20\n",
      "\n"
     ]
    }
   ],
   "source": [
    "import pandas as pd \n",
    "from sklearn.model_selection import train_test_split \n",
    "from sklearn.linear_model import LogisticRegression \n",
    "from sklearn.metrics import accuracy_score, classification_report \n",
    "data = pd.read_csv(\"heart_disease.csv\") \n",
    "X = data[['age', 'cholesterol', 'blood_pressure', 'exercise']] \n",
    "y = data['heart_disease'] \n",
    "X_train, X_test, y_train, y_test = train_test_split(X, y, test_size=0.2, random_state=42) \n",
    "model = LogisticRegression() \n",
    "model.fit(X_train, y_train) \n",
    "y_pred = model.predict(X_test) \n",
    "print(\"Accuracy:\", accuracy_score(y_test, y_pred)) \n",
    "print(\"Classification Report:\\n\", classification_report(y_test,y_pred))"
   ]
  },
  {
   "cell_type": "code",
   "execution_count": null,
   "id": "e905e2e1-130f-4f91-b794-178c82406359",
   "metadata": {},
   "outputs": [],
   "source": []
  }
 ],
 "metadata": {
  "kernelspec": {
   "display_name": "Python 3 (ipykernel)",
   "language": "python",
   "name": "python3"
  },
  "language_info": {
   "codemirror_mode": {
    "name": "ipython",
    "version": 3
   },
   "file_extension": ".py",
   "mimetype": "text/x-python",
   "name": "python",
   "nbconvert_exporter": "python",
   "pygments_lexer": "ipython3",
   "version": "3.12.4"
  }
 },
 "nbformat": 4,
 "nbformat_minor": 5
}
