{
 "cells": [
  {
   "cell_type": "code",
   "execution_count": 1,
   "id": "6ba588c1-7524-48eb-b0b2-7dcb9cb81967",
   "metadata": {},
   "outputs": [
    {
     "name": "stdout",
     "output_type": "stream",
     "text": [
      "\n",
      "First 5 rows of the dataset:\n",
      "                                                 text  label\n",
      "0  Congratulations! You've won a prize. Click her...      1\n",
      "1           Your account statement is now available.      0\n",
      "2  Update your payment details to avoid service i...      0\n",
      "3       Claim your free vacation now! Limited offer!      1\n",
      "4               Meeting rescheduled to next Tuesday.      0\n",
      "\n",
      "Model Evaluation:\n",
      "Accuracy: 0.0\n",
      "\n",
      "Classification Report:\n",
      "               precision    recall  f1-score   support\n",
      "\n",
      "           0       0.00      0.00      0.00       2.0\n",
      "           1       0.00      0.00      0.00       0.0\n",
      "\n",
      "    accuracy                           0.00       2.0\n",
      "   macro avg       0.00      0.00      0.00       2.0\n",
      "weighted avg       0.00      0.00      0.00       2.0\n",
      "\n",
      "\n",
      "Confusion Matrix:\n",
      " [[0 2]\n",
      " [0 0]]\n",
      "\n",
      "Prediction for new email: Scam\n"
     ]
    },
    {
     "name": "stderr",
     "output_type": "stream",
     "text": [
      "C:\\ProgramData\\anaconda3\\Lib\\site-packages\\sklearn\\metrics\\_classification.py:1509: UndefinedMetricWarning: Precision is ill-defined and being set to 0.0 in labels with no predicted samples. Use `zero_division` parameter to control this behavior.\n",
      "  _warn_prf(average, modifier, f\"{metric.capitalize()} is\", len(result))\n",
      "C:\\ProgramData\\anaconda3\\Lib\\site-packages\\sklearn\\metrics\\_classification.py:1509: UndefinedMetricWarning: Recall is ill-defined and being set to 0.0 in labels with no true samples. Use `zero_division` parameter to control this behavior.\n",
      "  _warn_prf(average, modifier, f\"{metric.capitalize()} is\", len(result))\n",
      "C:\\ProgramData\\anaconda3\\Lib\\site-packages\\sklearn\\metrics\\_classification.py:1509: UndefinedMetricWarning: Precision is ill-defined and being set to 0.0 in labels with no predicted samples. Use `zero_division` parameter to control this behavior.\n",
      "  _warn_prf(average, modifier, f\"{metric.capitalize()} is\", len(result))\n",
      "C:\\ProgramData\\anaconda3\\Lib\\site-packages\\sklearn\\metrics\\_classification.py:1509: UndefinedMetricWarning: Recall is ill-defined and being set to 0.0 in labels with no true samples. Use `zero_division` parameter to control this behavior.\n",
      "  _warn_prf(average, modifier, f\"{metric.capitalize()} is\", len(result))\n",
      "C:\\ProgramData\\anaconda3\\Lib\\site-packages\\sklearn\\metrics\\_classification.py:1509: UndefinedMetricWarning: Precision is ill-defined and being set to 0.0 in labels with no predicted samples. Use `zero_division` parameter to control this behavior.\n",
      "  _warn_prf(average, modifier, f\"{metric.capitalize()} is\", len(result))\n",
      "C:\\ProgramData\\anaconda3\\Lib\\site-packages\\sklearn\\metrics\\_classification.py:1509: UndefinedMetricWarning: Recall is ill-defined and being set to 0.0 in labels with no true samples. Use `zero_division` parameter to control this behavior.\n",
      "  _warn_prf(average, modifier, f\"{metric.capitalize()} is\", len(result))\n"
     ]
    }
   ],
   "source": [
    "# Import necessary libraries\n",
    "import pandas as pd \n",
    "import numpy as np \n",
    "from sklearn.model_selection import train_test_split \n",
    "from sklearn.feature_extraction.text import TfidfVectorizer \n",
    "from sklearn.naive_bayes import MultinomialNB \n",
    "from sklearn.metrics import accuracy_score, classification_report, confusion_matrix \n",
    "\n",
    "# Load the dataset\n",
    "data = pd.read_csv('spam email.csv') \n",
    "print(\"\\nFirst 5 rows of the dataset:\\n\", data.head()) \n",
    "\n",
    "# Drop missing values and convert text to lowercase\n",
    "data.dropna(inplace=True) \n",
    "data['text'] = data['text'].str.lower() \n",
    "\n",
    "# Separate features and target labels\n",
    "X = data['text'] \n",
    "y = data['label'] \n",
    "\n",
    "# Split the data into training and testing sets\n",
    "X_train, X_test, y_train, y_test = train_test_split(X, y, test_size=0.2, random_state=42) \n",
    "\n",
    "# Vectorize text data using TF-IDF\n",
    "vectorizer = TfidfVectorizer(stop_words='english', max_features=5000) \n",
    "X_train_tfidf = vectorizer.fit_transform(X_train) \n",
    "X_test_tfidf = vectorizer.transform(X_test) \n",
    "\n",
    "# Initialize and train the Naive Bayes model\n",
    "model = MultinomialNB() \n",
    "model.fit(X_train_tfidf, y_train) \n",
    "\n",
    "# Make predictions on the test set\n",
    "y_pred = model.predict(X_test_tfidf) \n",
    "\n",
    "# Evaluate the model\n",
    "print(\"\\nModel Evaluation:\") \n",
    "print(\"Accuracy:\", accuracy_score(y_test, y_pred)) \n",
    "print(\"\\nClassification Report:\\n\", classification_report(y_test, y_pred)) \n",
    "print(\"\\nConfusion Matrix:\\n\", confusion_matrix(y_test, y_pred)) \n",
    "\n",
    "# Test the model with a new email example\n",
    "new_email = [\"Congratulations! You've won a $1000 gift card. Click here to claim.\"] \n",
    "new_email_tfidf = vectorizer.transform(new_email) \n",
    "prediction = model.predict(new_email_tfidf) \n",
    "print(\"\\nPrediction for new email:\", \"Scam\" if prediction[0] == 1 else \"Not Scam\")\n"
   ]
  },
  {
   "cell_type": "code",
   "execution_count": null,
   "id": "036934ca-c316-40a6-b87e-3a08f5aa993a",
   "metadata": {},
   "outputs": [],
   "source": []
  }
 ],
 "metadata": {
  "kernelspec": {
   "display_name": "Python 3 (ipykernel)",
   "language": "python",
   "name": "python3"
  },
  "language_info": {
   "codemirror_mode": {
    "name": "ipython",
    "version": 3
   },
   "file_extension": ".py",
   "mimetype": "text/x-python",
   "name": "python",
   "nbconvert_exporter": "python",
   "pygments_lexer": "ipython3",
   "version": "3.12.4"
  }
 },
 "nbformat": 4,
 "nbformat_minor": 5
}
